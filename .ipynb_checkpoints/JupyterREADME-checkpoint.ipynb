{
 "cells": [
  {
   "cell_type": "markdown",
   "id": "2e2833bd-e814-4153-bd43-80025d49d4a4",
   "metadata": {
    "tags": []
   },
   "source": [
    "## Example\n",
    "\n",
    "Run the following kernel to import all necessary modules:"
   ]
  },
  {
   "cell_type": "code",
   "execution_count": 2,
   "id": "37f55b80-062a-4e6f-a94c-e0b649566e90",
   "metadata": {
    "tags": []
   },
   "outputs": [
    {
     "name": "stderr",
     "output_type": "stream",
     "text": [
      "┌ Info: Precompiling ConvexSampling [11d2b6ea-33ce-4b4d-a547-2ef600a65ac9]\n",
      "└ @ Base loading.jl:1664\n",
      "\n",
      "(process:22548): GLib-GIO-WARNING **: 16:21:36.903: Unexpectedly, UWP app `Microsoft.ScreenSketch_11.2302.4.0_x64__8wekyb3d8bbwe' (AUMId `Microsoft.ScreenSketch_8wekyb3d8bbwe!App') supports 29 extensions but has no verbs\n",
      "\n",
      "(process:19344): GLib-GIO-WARNING **: 16:21:43.794: Unexpectedly, UWP app `Microsoft.ScreenSketch_11.2302.4.0_x64__8wekyb3d8bbwe' (AUMId `Microsoft.ScreenSketch_8wekyb3d8bbwe!App') supports 29 extensions but has no verbs\n"
     ]
    }
   ],
   "source": [
    "import ConvexSampling\n",
    "using .ConvexSampling\n",
    "using LinearAlgebra\n",
    "using Plots\n",
    "using Test"
   ]
  },
  {
   "cell_type": "markdown",
   "id": "6e4f74be-a608-4396-ac64-7dec9ade879c",
   "metadata": {},
   "source": [
    "The usage of `SamplingUnderestimators` is demonstrated by script [testConvex.jl](test/testConvex.jl. \n",
    "\n",
    "An example for a convex  quadratic function of two variables within a box domain of `xL = [-5.0, -3.0]` and `xU = [5.0, 3.0]` was reproduced in JupyterLabs. The example is fully functional within the Jupyter environment.\n",
    "\n",
    "Make sure to run the following function `f` before any subsequent kernels:"
   ]
  },
  {
   "cell_type": "code",
   "execution_count": 3,
   "id": "c6038184-400b-4418-97e0-9a7967841a0a",
   "metadata": {},
   "outputs": [
    {
     "data": {
      "text/plain": [
       "f (generic function with 1 method)"
      ]
     },
     "execution_count": 3,
     "metadata": {},
     "output_type": "execute_result"
    }
   ],
   "source": [
    "f(x) = dot(x, [65.0 56.0; 56.0 65.0], x) + dot([6.0, 2.0], x) + 23.0"
   ]
  },
  {
   "cell_type": "markdown",
   "id": "ff4c9079-72dc-42ee-ad04-ce9828212509",
   "metadata": {},
   "source": [
    "Using the `SamplingUnderestimators` module (after commands `include(“ConvexSampling.jl”)` and `using .SamplingUnderestimators`), we can evaluate its affine underestimator at an input value of `x = [2.0, 2.0]`.\n",
    "- By defining f beforehand:"
   ]
  },
  {
   "cell_type": "code",
   "execution_count": 7,
   "id": "fe244250-3185-4498-bea6-8891a50df995",
   "metadata": {},
   "outputs": [
    {
     "data": {
      "text/plain": [
       "-182.0"
      ]
     },
     "execution_count": 7,
     "metadata": {},
     "output_type": "execute_result"
    }
   ],
   "source": [
    "yOutput = eval_sampling_underestimator(f, [-5.0, -3.0], [5.0, 3.0], [2.0, 2.0])"
   ]
  },
  {
   "cell_type": "markdown",
   "id": "dbe16096-364a-4d34-a5e4-37d89fe7356c",
   "metadata": {},
   "source": [
    "- By defining f as an anonymous function:"
   ]
  },
  {
   "cell_type": "code",
   "execution_count": 8,
   "id": "988003d8-dc2d-4b1f-b1f2-d926cc05eb46",
   "metadata": {},
   "outputs": [
    {
     "data": {
      "text/plain": [
       "-182.0"
      ]
     },
     "execution_count": 8,
     "metadata": {},
     "output_type": "execute_result"
    }
   ],
   "source": [
    "yOutput = eval_sampling_underestimator([-5.0, -3.0], [5.0, 3.0], [2.0, 2.0]) do x\n",
    "    dot(x,[65 56; 56 65], x) + dot([6;2], x) + 23\n",
    "end"
   ]
  },
  {
   "cell_type": "markdown",
   "id": "cfdf2564-1e2c-4ab2-a077-95ab36118924",
   "metadata": {},
   "source": [
    "- By constructing the underestimator as a function, and then evaluating it:"
   ]
  },
  {
   "cell_type": "code",
   "execution_count": 23,
   "id": "db43c014-ab29-4c51-8ce0-b1a81d4304fe",
   "metadata": {},
   "outputs": [
    {
     "data": {
      "text/plain": [
       "-182.0"
      ]
     },
     "execution_count": 23,
     "metadata": {},
     "output_type": "execute_result"
    }
   ],
   "source": [
    "fAffine() = construct_sampling_underestimator(f, [-5.0, -3.0], [5.0, 3.0])\n",
    "yOutput = fAffine()\n",
    "yOutput([2.0,2.0])"
   ]
  },
  {
   "cell_type": "markdown",
   "id": "3d7189ca-197b-4be7-a1aa-06a9b11193ad",
   "metadata": {},
   "source": [
    "Contructing the underestimator is worthwhile if you plan on evaluating it at more than one `x`-value.\n",
    "\n",
    "The function `f` may be plotted with its sampling-based underestimator `fAffine` and lower bound `fL`:"
   ]
  },
  {
   "cell_type": "code",
   "execution_count": 4,
   "id": "270018e1-1b2d-49f1-9cf0-e90da3db0d66",
   "metadata": {},
   "outputs": [],
   "source": [
    "graph = plot_sampling_underestimator(f, [-5.0, -3.0], [5.0, 3.0]);"
   ]
  },
  {
   "cell_type": "markdown",
   "id": "4d97d8e9-e6ee-43bf-9b44-043500de778d",
   "metadata": {},
   "source": [
    "The graph displays oddly in GitHub. To unsupress the function, remove the \";\" in JupyterLabs. The output should appear as follows:\n",
    "\n",
    "![ConvexSampleplot](https://user-images.githubusercontent.com/104848815/173203263-26bdc553-c1b5-496a-913f-eeb0553461d7.png)"
   ]
  },
  {
   "cell_type": "markdown",
   "id": "444ad688-cdaa-4951-8735-5a86aa555ff5",
   "metadata": {},
   "source": [
    "Note that if the `plot_sampling_underestimator` function is entered directly into the command window, the `@show` command is not required."
   ]
  },
  {
   "cell_type": "code",
   "execution_count": null,
   "id": "d831ef5f-98c5-4084-a993-6709adc2ce8a",
   "metadata": {},
   "outputs": [],
   "source": []
  }
 ],
 "metadata": {
  "kernelspec": {
   "display_name": "Julia 1.8.3",
   "language": "julia",
   "name": "julia-1.8"
  },
  "language_info": {
   "file_extension": ".jl",
   "mimetype": "application/julia",
   "name": "julia",
   "version": "1.8.3"
  }
 },
 "nbformat": 4,
 "nbformat_minor": 5
}
